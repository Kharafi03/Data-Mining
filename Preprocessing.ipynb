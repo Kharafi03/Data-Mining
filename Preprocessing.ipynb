{
 "cells": [
  {
   "cell_type": "code",
   "execution_count": 99,
   "metadata": {},
   "outputs": [],
   "source": [
    "import numpy as np\n",
    "import matplotlib.pyplot as plt\n",
    "import pandas as pd"
   ]
  },
  {
   "cell_type": "code",
   "execution_count": 137,
   "metadata": {},
   "outputs": [],
   "source": [
    "dataset = pd.read_csv('Data2.csv')\n",
    "x = dataset.iloc[:, :-1].values\n",
    "y = dataset.iloc[:, -1].values"
   ]
  },
  {
   "cell_type": "code",
   "execution_count": 138,
   "metadata": {},
   "outputs": [
    {
     "name": "stdout",
     "output_type": "stream",
     "text": [
      "[['Apple' 44.0 72000.0]\n",
      " ['Banana' 27.0 48000.0]\n",
      " ['Orange' 30.0 54000.0]\n",
      " ['Grapes' 38.0 61000.0]\n",
      " ['Pineapple' 40.0 nan]\n",
      " ['Mango' 35.0 58000.0]\n",
      " ['Melon' nan 52000.0]\n",
      " ['Avocado' 48.0 79000.0]]\n"
     ]
    }
   ],
   "source": [
    "print(x)"
   ]
  },
  {
   "cell_type": "code",
   "execution_count": 139,
   "metadata": {},
   "outputs": [
    {
     "name": "stdout",
     "output_type": "stream",
     "text": [
      "['No' 'Yes' 'No' 'No' 'Yes' 'Yes' 'No' 'Yes']\n"
     ]
    }
   ],
   "source": [
    "print(y)"
   ]
  },
  {
   "cell_type": "code",
   "execution_count": 140,
   "metadata": {},
   "outputs": [],
   "source": [
    "from sklearn.impute import SimpleImputer\n",
    "imputer = SimpleImputer(missing_values=np.nan, strategy='mean')\n",
    "imputer.fit(x[:, 1:3])\n",
    "x[:, 1:3] = imputer.transform(x[:, 1:3])\n"
   ]
  },
  {
   "cell_type": "code",
   "execution_count": 141,
   "metadata": {},
   "outputs": [
    {
     "name": "stdout",
     "output_type": "stream",
     "text": [
      "[['Apple' 44.0 72000.0]\n",
      " ['Banana' 27.0 48000.0]\n",
      " ['Orange' 30.0 54000.0]\n",
      " ['Grapes' 38.0 61000.0]\n",
      " ['Pineapple' 40.0 60571.42857142857]\n",
      " ['Mango' 35.0 58000.0]\n",
      " ['Melon' 37.42857142857143 52000.0]\n",
      " ['Avocado' 48.0 79000.0]]\n"
     ]
    }
   ],
   "source": [
    "print(x)"
   ]
  },
  {
   "cell_type": "code",
   "execution_count": 142,
   "metadata": {},
   "outputs": [],
   "source": [
    "from sklearn.compose import ColumnTransformer\n",
    "from sklearn.preprocessing import OneHotEncoder\n",
    "ct = ColumnTransformer(transformers=[('encoder', OneHotEncoder(), [0])], remainder='passthrough')\n",
    "x = np.array(ct.fit_transform(x))"
   ]
  },
  {
   "cell_type": "code",
   "execution_count": 143,
   "metadata": {},
   "outputs": [
    {
     "name": "stdout",
     "output_type": "stream",
     "text": [
      "[[1.0 0.0 0.0 0.0 0.0 0.0 0.0 0.0 44.0 72000.0]\n",
      " [0.0 0.0 1.0 0.0 0.0 0.0 0.0 0.0 27.0 48000.0]\n",
      " [0.0 0.0 0.0 0.0 0.0 0.0 1.0 0.0 30.0 54000.0]\n",
      " [0.0 0.0 0.0 1.0 0.0 0.0 0.0 0.0 38.0 61000.0]\n",
      " [0.0 0.0 0.0 0.0 0.0 0.0 0.0 1.0 40.0 60571.42857142857]\n",
      " [0.0 0.0 0.0 0.0 1.0 0.0 0.0 0.0 35.0 58000.0]\n",
      " [0.0 0.0 0.0 0.0 0.0 1.0 0.0 0.0 37.42857142857143 52000.0]\n",
      " [0.0 1.0 0.0 0.0 0.0 0.0 0.0 0.0 48.0 79000.0]]\n"
     ]
    }
   ],
   "source": [
    "print(x)"
   ]
  },
  {
   "cell_type": "code",
   "execution_count": 144,
   "metadata": {},
   "outputs": [],
   "source": [
    "from sklearn.preprocessing import LabelEncoder\n",
    "le = LabelEncoder();\n",
    "y = le.fit_transform(y)"
   ]
  },
  {
   "cell_type": "code",
   "execution_count": 145,
   "metadata": {},
   "outputs": [
    {
     "name": "stdout",
     "output_type": "stream",
     "text": [
      "[0 1 0 0 1 1 0 1]\n"
     ]
    }
   ],
   "source": [
    "print(y)"
   ]
  },
  {
   "cell_type": "code",
   "execution_count": 146,
   "metadata": {},
   "outputs": [],
   "source": [
    "from sklearn.model_selection import train_test_split\n",
    "x_train, x_test, y_train, y_test = train_test_split(x, y, test_size=0.2, random_state=1)\n"
   ]
  },
  {
   "cell_type": "code",
   "execution_count": 147,
   "metadata": {},
   "outputs": [
    {
     "name": "stdout",
     "output_type": "stream",
     "text": [
      "[[0.0 0.0 1.0 0.0 0.0 0.0 0.0 0.0 27.0 48000.0]\n",
      " [0.0 0.0 0.0 0.0 0.0 1.0 0.0 0.0 37.42857142857143 52000.0]\n",
      " [1.0 0.0 0.0 0.0 0.0 0.0 0.0 0.0 44.0 72000.0]\n",
      " [0.0 0.0 0.0 0.0 0.0 0.0 0.0 1.0 40.0 60571.42857142857]\n",
      " [0.0 0.0 0.0 1.0 0.0 0.0 0.0 0.0 38.0 61000.0]\n",
      " [0.0 0.0 0.0 0.0 1.0 0.0 0.0 0.0 35.0 58000.0]]\n"
     ]
    }
   ],
   "source": [
    "print(x_train)"
   ]
  },
  {
   "cell_type": "code",
   "execution_count": 148,
   "metadata": {},
   "outputs": [
    {
     "name": "stdout",
     "output_type": "stream",
     "text": [
      "[[0.0 1.0 0.0 0.0 0.0 0.0 0.0 0.0 48.0 79000.0]\n",
      " [0.0 0.0 0.0 0.0 0.0 0.0 1.0 0.0 30.0 54000.0]]\n"
     ]
    }
   ],
   "source": [
    "print(x_test)"
   ]
  },
  {
   "cell_type": "code",
   "execution_count": 149,
   "metadata": {},
   "outputs": [
    {
     "name": "stdout",
     "output_type": "stream",
     "text": [
      "[1 0 0 1 0 1]\n"
     ]
    }
   ],
   "source": [
    "print(y_train)"
   ]
  },
  {
   "cell_type": "code",
   "execution_count": 150,
   "metadata": {},
   "outputs": [
    {
     "name": "stdout",
     "output_type": "stream",
     "text": [
      "[1 0]\n"
     ]
    }
   ],
   "source": [
    "print(y_test)"
   ]
  },
  {
   "cell_type": "code",
   "execution_count": 151,
   "metadata": {},
   "outputs": [],
   "source": [
    "from sklearn.preprocessing import StandardScaler\n",
    "sc = StandardScaler()\n",
    "x_train[:, 3:] = sc.fit_transform(x_train[:, 3:])\n",
    "x_test[:, 3:] = sc.transform(x_test[:, 3:])"
   ]
  },
  {
   "cell_type": "code",
   "execution_count": 152,
   "metadata": {},
   "outputs": [
    {
     "name": "stdout",
     "output_type": "stream",
     "text": [
      "[[0.0 0.0 1.0 -0.4472135954999579 -0.44721359549995787\n",
      "  -0.44721359549995787 0.0 -0.44721359549995787 -1.8995631823052483\n",
      "  -1.3962747073874662]\n",
      " [0.0 0.0 0.0 -0.4472135954999579 -0.44721359549995787 2.2360679774997894\n",
      "  0.0 -0.44721359549995787 0.10045766829498941 -0.8691417841490521]\n",
      " [1.0 0.0 0.0 -0.4472135954999579 -0.44721359549995787\n",
      "  -0.44721359549995787 0.0 -0.44721359549995787 1.3607447796321248\n",
      "  1.7665228320430177]\n",
      " [0.0 0.0 0.0 -0.4472135954999579 -0.44721359549995787\n",
      "  -0.44721359549995787 0.0 2.2360679774997894 0.59361349447039\n",
      "  0.2604287656475494]\n",
      " [0.0 0.0 0.0 2.23606797749979 -0.44721359549995787 -0.44721359549995787\n",
      "  0.0 -0.44721359549995787 0.21004785188952257 0.3169072931373793]\n",
      " [0.0 0.0 0.0 -0.4472135954999579 2.2360679774997894 -0.44721359549995787\n",
      "  0.0 -0.44721359549995787 -0.36530061198177854 -0.07844239929143115]]\n"
     ]
    }
   ],
   "source": [
    "print(x_train)"
   ]
  },
  {
   "cell_type": "code",
   "execution_count": 153,
   "metadata": {},
   "outputs": [
    {
     "name": "stdout",
     "output_type": "stream",
     "text": [
      "[[0.0 1.0 0.0 -0.4472135954999579 -0.44721359549995787\n",
      "  -0.44721359549995787 0.0 -0.44721359549995787 2.1278760647938597\n",
      "  2.689005447710242]\n",
      " [0.0 0.0 0.0 -0.4472135954999579 -0.44721359549995787\n",
      "  -0.44721359549995787 1.0 -0.44721359549995787 -1.324214718433947\n",
      "  -0.6055753225298451]]\n"
     ]
    }
   ],
   "source": [
    "print(x_test)"
   ]
  }
 ],
 "metadata": {
  "kernelspec": {
   "display_name": "Python 3",
   "language": "python",
   "name": "python3"
  },
  "language_info": {
   "codemirror_mode": {
    "name": "ipython",
    "version": 3
   },
   "file_extension": ".py",
   "mimetype": "text/x-python",
   "name": "python",
   "nbconvert_exporter": "python",
   "pygments_lexer": "ipython3",
   "version": "3.10.1"
  },
  "orig_nbformat": 4
 },
 "nbformat": 4,
 "nbformat_minor": 2
}
